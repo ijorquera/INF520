{
 "cells": [
  {
   "cell_type": "code",
   "execution_count": 66,
   "metadata": {},
   "outputs": [
    {
     "name": "stdout",
     "output_type": "stream",
     "text": [
      "email_eu_core\n",
      "  - Z\n",
      "  - Row\n",
      "  - Col\n",
      "facebook\n",
      "  - Z\n",
      "  - Row\n",
      "  - Col\n",
      "gplus\n",
      "  - Z\n",
      "  - Row\n",
      "  - Col\n",
      "pokec\n",
      "  - Z\n",
      "  - Row\n",
      "  - Col\n"
     ]
    }
   ],
   "source": [
    "import numpy as np\n",
    "\n",
    "def get_row_order(row, col, size):\n",
    "    return size*row + col\n",
    "\n",
    "def get_col_order(row, col, size):\n",
    "    return size*col + row\n",
    "\n",
    "row_vec_func = np.vectorize(get_row_order)\n",
    "col_vec_func = np.vectorize(get_col_order)\n",
    "\n",
    "files = [\"email_eu_core\", \"facebook\", \"gplus\", \"pokec\"]\n",
    "# files = [\"email_eu_core\"]\n",
    "ext = \".txt\"\n",
    "\n",
    "dt = {'names':['idx', 'row', 'col'], 'formats':[np.longdouble, np.longdouble, np.longdouble]}\n",
    "\n",
    "# file = files[0]\n",
    "for file in files:\n",
    "    print(file)\n",
    "    arr = np.loadtxt(f\"{file}{ext}\", delimiter=\" \", dtype=dt)\n",
    "\n",
    "    print(\"  - Z\")\n",
    "    np.savetxt(f\"{file}/z_{file}{ext}\", np.sort(arr['idx']), delimiter=\" \", fmt='%i')\n",
    "\n",
    "    size = 2**(np.floor(np.log2(max(arr['row'].max(), arr['col'].max()))) + 1)\n",
    "    np.savetxt(f\"{file}/size_{file}{ext}\", np.array([size]), fmt=\"%i\")\n",
    "\n",
    "\n",
    "    print(\"  - Row\")\n",
    "    np.savetxt(f\"{file}/row_{file}{ext}\", np.sort(row_vec_func(arr[\"row\"], arr[\"col\"], size)).reshape([arr.shape[0], 1]), delimiter=\" \", fmt='%i')\n",
    "\n",
    "    print(\"  - Col\")\n",
    "    np.savetxt(f\"{file}/col_{file}{ext}\", np.sort(col_vec_func(arr[\"row\"], arr[\"col\"], size)).reshape([arr.shape[0], 1]), delimiter=\" \", fmt='%i')\n",
    "\n",
    "    # print()\n",
    "# np.sort(arr[['row', 'col']], order=[\"row\", \"col\"])[:5], np.sort(arr[['row', 'col']], order=[\"col\", \"row\"])[:5]\n"
   ]
  }
 ],
 "metadata": {
  "kernelspec": {
   "display_name": "Python 3",
   "language": "python",
   "name": "python3"
  },
  "language_info": {
   "codemirror_mode": {
    "name": "ipython",
    "version": 3
   },
   "file_extension": ".py",
   "mimetype": "text/x-python",
   "name": "python",
   "nbconvert_exporter": "python",
   "pygments_lexer": "ipython3",
   "version": "3.11.3"
  },
  "orig_nbformat": 4
 },
 "nbformat": 4,
 "nbformat_minor": 2
}
