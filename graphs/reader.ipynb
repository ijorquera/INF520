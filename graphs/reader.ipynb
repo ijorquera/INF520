{
 "cells": [
  {
   "cell_type": "code",
   "execution_count": 1,
   "metadata": {},
   "outputs": [
    {
     "name": "stdout",
     "output_type": "stream",
     "text": [
      "twitch:\n",
      "    z\n",
      "        gap\n"
     ]
    },
    {
     "ename": "KeyboardInterrupt",
     "evalue": "",
     "output_type": "error",
     "traceback": [
      "\u001b[1;31m---------------------------------------------------------------------------\u001b[0m",
      "\u001b[1;31mKeyboardInterrupt\u001b[0m                         Traceback (most recent call last)",
      "Cell \u001b[1;32mIn[1], line 23\u001b[0m\n\u001b[0;32m     21\u001b[0m arr \u001b[39m=\u001b[39m np\u001b[39m.\u001b[39mloadtxt(\u001b[39mf\u001b[39m\u001b[39m\"\u001b[39m\u001b[39m{\u001b[39;00min_dir\u001b[39m}\u001b[39;00m\u001b[39m/\u001b[39m\u001b[39m{\u001b[39;00mfile\u001b[39m}\u001b[39;00m\u001b[39m/\u001b[39m\u001b[39m{\u001b[39;00mmode\u001b[39m}\u001b[39;00m\u001b[39m_\u001b[39m\u001b[39m{\u001b[39;00mfile\u001b[39m}\u001b[39;00m\u001b[39m{\u001b[39;00mext\u001b[39m}\u001b[39;00m\u001b[39m\"\u001b[39m)\n\u001b[0;32m     22\u001b[0m \u001b[39mprint\u001b[39m(\u001b[39m\"\u001b[39m\u001b[39m        gap\u001b[39m\u001b[39m\"\u001b[39m)\n\u001b[1;32m---> 23\u001b[0m get_gap(arr, file, mode, in_dir, out_dir, ext)\n\u001b[0;32m     24\u001b[0m \u001b[39mprint\u001b[39m(\u001b[39m\"\u001b[39m\u001b[39m        rle\u001b[39m\u001b[39m\"\u001b[39m)\n\u001b[0;32m     25\u001b[0m get_rle(arr, file, mode, in_dir, out_dir, ext)\n",
      "File \u001b[1;32mc:\\Users\\Iderie\\OneDrive - Universidad Técnica Federico Santa María\\text compression\\matrix\\graphs\\compressors.py:33\u001b[0m, in \u001b[0;36mget_gap\u001b[1;34m(arr, file, mode, in_dir, out_dir, ext)\u001b[0m\n\u001b[0;32m     30\u001b[0m         gap_entropy_i \u001b[39m=\u001b[39m np\u001b[39m.\u001b[39mfloor(np\u001b[39m.\u001b[39mlog2(gap_value_i)) \u001b[39m+\u001b[39m \u001b[39m1\u001b[39m\n\u001b[0;32m     32\u001b[0m     gapEntropy \u001b[39m+\u001b[39m\u001b[39m=\u001b[39m gap_entropy_i\n\u001b[1;32m---> 33\u001b[0m     gap_vector \u001b[39m=\u001b[39m np\u001b[39m.\u001b[39;49mappend(gap_vector, gap_value_i)\n\u001b[0;32m     35\u001b[0m np\u001b[39m.\u001b[39msavetxt(\u001b[39mf\u001b[39m\u001b[39m\"\u001b[39m\u001b[39m{\u001b[39;00min_dir\u001b[39m}\u001b[39;00m\u001b[39m/\u001b[39m\u001b[39m{\u001b[39;00mfile\u001b[39m}\u001b[39;00m\u001b[39m/\u001b[39m\u001b[39m{\u001b[39;00mout_dir\u001b[39m}\u001b[39;00m\u001b[39m/gapVector_\u001b[39m\u001b[39m{\u001b[39;00mmode\u001b[39m}\u001b[39;00m\u001b[39m_\u001b[39m\u001b[39m{\u001b[39;00mfile\u001b[39m}\u001b[39;00m\u001b[39m{\u001b[39;00mext\u001b[39m}\u001b[39;00m\u001b[39m\"\u001b[39m, gap_vector, fmt\u001b[39m=\u001b[39m\u001b[39m'\u001b[39m\u001b[39m%i\u001b[39;00m\u001b[39m'\u001b[39m)\n\u001b[0;32m     36\u001b[0m np\u001b[39m.\u001b[39msavetxt(\u001b[39mf\u001b[39m\u001b[39m\"\u001b[39m\u001b[39m{\u001b[39;00min_dir\u001b[39m}\u001b[39;00m\u001b[39m/\u001b[39m\u001b[39m{\u001b[39;00mfile\u001b[39m}\u001b[39;00m\u001b[39m/\u001b[39m\u001b[39m{\u001b[39;00mout_dir\u001b[39m}\u001b[39;00m\u001b[39m/gapEntropy_\u001b[39m\u001b[39m{\u001b[39;00mmode\u001b[39m}\u001b[39;00m\u001b[39m_\u001b[39m\u001b[39m{\u001b[39;00mfile\u001b[39m}\u001b[39;00m\u001b[39m{\u001b[39;00mext\u001b[39m}\u001b[39;00m\u001b[39m\"\u001b[39m, np\u001b[39m.\u001b[39marray([gapEntropy]), fmt\u001b[39m=\u001b[39m\u001b[39m'\u001b[39m\u001b[39m%i\u001b[39;00m\u001b[39m'\u001b[39m)\n",
      "File \u001b[1;32mc:\\Users\\Iderie\\miniconda3\\envs\\pytorch\\Lib\\site-packages\\numpy\\lib\\function_base.py:5617\u001b[0m, in \u001b[0;36mappend\u001b[1;34m(arr, values, axis)\u001b[0m\n\u001b[0;32m   5615\u001b[0m     values \u001b[39m=\u001b[39m ravel(values)\n\u001b[0;32m   5616\u001b[0m     axis \u001b[39m=\u001b[39m arr\u001b[39m.\u001b[39mndim\u001b[39m-\u001b[39m\u001b[39m1\u001b[39m\n\u001b[1;32m-> 5617\u001b[0m \u001b[39mreturn\u001b[39;00m concatenate((arr, values), axis\u001b[39m=\u001b[39;49maxis)\n",
      "\u001b[1;31mKeyboardInterrupt\u001b[0m: "
     ]
    }
   ],
   "source": [
    "import numpy as np\n",
    "import os\n",
    "from compressors import get_gap, get_rle, get_trie\n",
    "\n",
    "# files = [\"email_eu_core\", \"facebook\", \"twitch\", \"pokec\", \"gplus\"]\n",
    "# files = [\"gplus\"]\n",
    "files = [\"twitch\", \"pokec\", \"gplus\"]\n",
    "# files = [\"test\", \"trie_test\"]\n",
    "modes = [\"z\", \"col\", \"row\"]\n",
    "# modes = [\"z\"]\n",
    "in_dir = \"data_g\"\n",
    "out_dir = \"output\"\n",
    "ext = \".txt\"\n",
    "\n",
    "for file in files:\n",
    "    print(f\"{file}:\")\n",
    "    for mode in modes:\n",
    "        print(f\"    {mode}\")\n",
    "        os.makedirs(f\"{in_dir}/{file}/{out_dir}\", exist_ok=True)\n",
    "\n",
    "        arr = np.loadtxt(f\"{in_dir}/{file}/{mode}_{file}{ext}\")\n",
    "        print(\"        gap\")\n",
    "        get_gap(arr, file, mode, in_dir, out_dir, ext)\n",
    "        print(\"        rle\")\n",
    "        get_rle(arr, file, mode, in_dir, out_dir, ext)\n",
    "        print(\"        trie\")\n",
    "        get_trie(arr, file, mode, in_dir, out_dir, ext)\n",
    "    print()\n"
   ]
  },
  {
   "cell_type": "code",
   "execution_count": 2,
   "metadata": {},
   "outputs": [
    {
     "name": "stdout",
     "output_type": "stream",
     "text": [
      "email_eu_core:\n",
      "    z\n",
      "        gap\n",
      "        rle\n",
      "    col\n",
      "        gap\n",
      "        rle\n",
      "    row\n",
      "        gap\n",
      "        rle\n",
      "\n",
      "facebook:\n",
      "    z\n",
      "        gap\n",
      "        rle\n",
      "    col\n",
      "        gap\n",
      "        rle\n",
      "    row\n",
      "        gap\n",
      "        rle\n",
      "\n",
      "twitch:\n",
      "    z\n",
      "        gap\n",
      "        rle\n",
      "    col\n",
      "        gap\n",
      "        rle\n",
      "    row\n",
      "        gap\n",
      "        rle\n",
      "\n"
     ]
    }
   ],
   "source": [
    "import numpy as np\n",
    "import os\n",
    "from compressors import get_H0_entropy_2\n",
    "\n",
    "# files = [\"email_eu_core\", \"facebook\", \"twitch\", \"pokec\", \"gplus\"]\n",
    "# files = [\"pokec\"]\n",
    "files = [\"pokec\", \"gplus\"]\n",
    "files = [\"email_eu_core\", \"facebook\", \"twitch\"]\n",
    "# files = [\"gplus\"]\n",
    "modes = [\"z\", \"col\", \"row\"]\n",
    "vectors = [\"gap\", \"rle\"]\n",
    "# vectors = [\"gap\"]\n",
    "# modes = [\"z\"]\n",
    "in_dir = \"data_g\"\n",
    "out_dir = \"compressed\"\n",
    "ext = \".txt\"\n",
    "\n",
    "for file in files:\n",
    "    print(f\"{file}:\")\n",
    "    for mode in modes:\n",
    "        print(f\"    {mode}\")\n",
    "        for vector in vectors:\n",
    "            print(f\"        {vector}\")\n",
    "\n",
    "            arr = np.loadtxt(f\"{in_dir}/{file}/{out_dir}/{vector}Vector_{mode}_{file}{ext}\")\n",
    "            np.savetxt(f\"{in_dir}/{file}/{out_dir}/{vector}_H0Entropy_2_{mode}_{file}{ext}\", get_H0_entropy_2(arr), fmt='%i')\n",
    "        # print(get_H0_entropy(arr))\n",
    "    print()\n"
   ]
  },
  {
   "cell_type": "code",
   "execution_count": null,
   "metadata": {},
   "outputs": [],
   "source": [
    "import numpy as np\n",
    "import os\n",
    "from compressors import get_H0_entropy\n",
    "\n",
    "files = [\"email_eu_core\", \"facebook\", \"twitch\", \"pokec\", \"gplus\"]\n",
    "# files = [\"gplus\"]\n",
    "# files = [\"twitch\", \"pokec\", \"gplus\"]\n",
    "# files = [\"test\", \"trie_test\"]\n",
    "modes = [\"z\", \"col\", \"row\"]\n",
    "vectors = [\"gap\", \"rle\"]\n",
    "# modes = [\"z\"]\n",
    "in_dir = \"data_g\"\n",
    "out_dir = \"compressed\"\n",
    "ext = \".txt\"\n",
    "\n",
    "for file in files:\n",
    "    print(f\"{file}:\")\n",
    "    for mode in modes:\n",
    "        print(f\"    {mode}\")\n",
    "        for vector in vectors:\n",
    "            print(f\"        {vector}\")\n",
    "\n",
    "        arr = np.loadtxt(f\"{in_dir}/{file}/{out_dir}/{vector}Vector_{mode}_{file}{ext}\")\n",
    "        np.savetxt(f\"{in_dir}/{file}/{out_dir}/{vector}_H0Entropy_{mode}_{file}{ext}\", get_H0_entropy(arr), fmt='%i')\n",
    "        # print(get_H0_entropy(arr))\n",
    "    print()\n"
   ]
  },
  {
   "cell_type": "code",
   "execution_count": 18,
   "metadata": {},
   "outputs": [
    {
     "name": "stdout",
     "output_type": "stream",
     "text": [
      "gplus:\n",
      "12113501 1.4757395258967641e+20 2.1778071482940062e+40\n"
     ]
    }
   ],
   "source": [
    "import numpy as np\n",
    "import os\n",
    "from compressors import get_gap, get_rle, get_trie\n",
    "\n",
    "files = [\"email_eu_core\", \"facebook\", \"twitch\", \"pokec\", \"gplus\"]\n",
    "files = [\"gplus\"]\n",
    "# files = [\"twitch\", \"pokec\", \"gplus\"]\n",
    "# files = [\"test\", \"trie_test\"]\n",
    "modes = [\"z\", \"col\", \"row\"]\n",
    "mode = modes[0]\n",
    "in_dir = \"data_g\"\n",
    "out_dir = \"output\"\n",
    "ext = \".txt\"\n",
    "\n",
    "for file in files:\n",
    "    print(f\"{file}:\")\n",
    "    arr = np.loadtxt(f\"{in_dir}/{file}/{mode}_{file}{ext}\")\n",
    "    size = np.loadtxt(f\"{in_dir}/{file}/size_{file}{ext}\").reshape(1)[0]\n",
    "\n",
    "    print(arr.shape[0], size, size*size)\n",
    "    sparsity = 1 - ((arr.shape[0]/size)/size)\n",
    "    if sparsity == 1.0:\n",
    "        sparsity = np.log(arr.shape[0]) - 2*np.log(size)\n",
    "        np.savetxt(f\"{in_dir}/{file}/sparsity_{file}{ext}\", np.array([sparsity]))\n",
    "    else:\n",
    "        np.savetxt(f\"{in_dir}/{file}/sparsity_{file}{ext}\", np.array([1 - ((arr.shape[0]/size)/size)]), fmt=\"%1.40f\")\n"
   ]
  },
  {
   "cell_type": "code",
   "execution_count": null,
   "metadata": {},
   "outputs": [],
   "source": [
    "import numpy as np\n",
    "import os\n",
    "from compressors import get_gap, get_rle, get_trie\n",
    "\n",
    "# files = [\"email_eu_core\", \"facebook\", \"twitch\", \"pokec\", \"gplus\"]\n",
    "# files = [\"gplus\"]\n",
    "files = [\"twitch\", \"pokec\", \"gplus\"]\n",
    "# files = [\"test\", \"trie_test\"]\n",
    "modes = [\"z\", \"col\", \"row\"]\n",
    "# modes = [\"z\"]\n",
    "in_dir = \"data_g\"\n",
    "out_dir = \"output\"\n",
    "ext = \".txt\"\n",
    "\n",
    "for file in files:\n",
    "    print(f\"{file}:\")\n",
    "    for mode in modes:\n",
    "        print(f\"    {mode}\")\n",
    "        os.makedirs(f\"{in_dir}/{file}/{out_dir}\", exist_ok=True)\n",
    "\n",
    "        z_order_vector = np.loadtxt(f\"{in_dir}/{file}/{mode}_{file}{ext}\")\n",
    "\n",
    "        height = z_order_vector.shape[0] / 4\n",
    "        \n",
    "        r_trie_vector = np.zeros(z_order_vector.shape[0])\n",
    "\n",
    "\n",
    "    print()\n"
   ]
  }
 ],
 "metadata": {
  "kernelspec": {
   "display_name": "pytorch",
   "language": "python",
   "name": "python3"
  },
  "language_info": {
   "codemirror_mode": {
    "name": "ipython",
    "version": 3
   },
   "file_extension": ".py",
   "mimetype": "text/x-python",
   "name": "python",
   "nbconvert_exporter": "python",
   "pygments_lexer": "ipython3",
   "version": "3.11.3"
  },
  "orig_nbformat": 4
 },
 "nbformat": 4,
 "nbformat_minor": 2
}
